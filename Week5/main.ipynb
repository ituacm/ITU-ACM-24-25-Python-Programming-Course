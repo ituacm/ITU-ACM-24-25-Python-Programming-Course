{
 "cells": [
  {
   "cell_type": "code",
   "execution_count": 191,
   "metadata": {},
   "outputs": [],
   "source": [
    "import math"
   ]
  },
  {
   "cell_type": "code",
   "execution_count": 192,
   "metadata": {},
   "outputs": [],
   "source": [
    "class ListItem: # PascalCase\n",
    "    def __init__(self, value, next = None):\n",
    "        self.value = value\n",
    "        self.next = next\n",
    "    \n",
    "    def __str__(self):\n",
    "        return str(self.value)\n",
    "    \n",
    "    def __repr__(self):\n",
    "        return self.__str__()"
   ]
  },
  {
   "cell_type": "code",
   "execution_count": null,
   "metadata": {},
   "outputs": [],
   "source": [
    "class List:\n",
    "    def __init__(self, list_item):\n",
    "        if isinstance(list_item, int):\n",
    "            list_item = ListItem(list_item)\n",
    "        else:\n",
    "            raise TypeError(\"Can only add nodes and integers to a list\")\n",
    "        self.head = list_item\n",
    "        self.tail = list_item\n",
    "        \n",
    "    def __str__(self):\n",
    "        s = ''\n",
    "        cur = self.head\n",
    "        while cur != None:\n",
    "            s += (str(cur) + ' ')\n",
    "            cur = cur.next\n",
    "        \n",
    "        return s.strip()\n",
    "    \n",
    "    def __repr__(self):\n",
    "        return self.__str__()\n",
    "\n",
    "    def print_list(self):\n",
    "        print(self)\n",
    "    \n",
    "    def __len__(self):\n",
    "        l = 0\n",
    "        cur = self.head\n",
    "        while cur != None:\n",
    "            l += 1\n",
    "            cur = cur.next\n",
    "        return l\n",
    "\n",
    "    def __getitem__(self, index):\n",
    "        if len(self) <= index:\n",
    "            raise IndexError(f\"List object has length {len(self)}, attepmted to reach index {index}\")\n",
    "        cur = self.head\n",
    "        for _ in range(index):\n",
    "            cur = cur.next\n",
    "        \n",
    "        return cur\n"
   ]
  },
  {
   "cell_type": "code",
   "execution_count": 194,
   "metadata": {},
   "outputs": [
    {
     "name": "stdout",
     "output_type": "stream",
     "text": [
      "3\n"
     ]
    }
   ],
   "source": [
    "l = List(3)\n",
    "l.print_list()"
   ]
  },
  {
   "cell_type": "code",
   "execution_count": 195,
   "metadata": {},
   "outputs": [
    {
     "name": "stdout",
     "output_type": "stream",
     "text": [
      "3 5\n"
     ]
    }
   ],
   "source": [
    "l.append(5)\n",
    "l.print_list()"
   ]
  },
  {
   "cell_type": "code",
   "execution_count": 196,
   "metadata": {},
   "outputs": [
    {
     "name": "stdout",
     "output_type": "stream",
     "text": [
      "3 5 2\n"
     ]
    }
   ],
   "source": [
    "i_new = ListItem(2)\n",
    "l.append(i_new)\n",
    "l.print_list()"
   ]
  },
  {
   "cell_type": "code",
   "execution_count": 197,
   "metadata": {},
   "outputs": [],
   "source": [
    "l + 6"
   ]
  },
  {
   "cell_type": "code",
   "execution_count": 198,
   "metadata": {},
   "outputs": [
    {
     "data": {
      "text/plain": [
       "3 5 2 6"
      ]
     },
     "execution_count": 198,
     "metadata": {},
     "output_type": "execute_result"
    }
   ],
   "source": [
    "l"
   ]
  },
  {
   "cell_type": "code",
   "execution_count": 203,
   "metadata": {},
   "outputs": [
    {
     "ename": "TypeError",
     "evalue": "'List' object does not support item assignment",
     "output_type": "error",
     "traceback": [
      "\u001b[0;31m---------------------------------------------------------------------------\u001b[0m",
      "\u001b[0;31mTypeError\u001b[0m                                 Traceback (most recent call last)",
      "Cell \u001b[0;32mIn[203], line 1\u001b[0m\n\u001b[0;32m----> 1\u001b[0m \u001b[43ml\u001b[49m\u001b[43m[\u001b[49m\u001b[38;5;241;43m3\u001b[39;49m\u001b[43m]\u001b[49m \u001b[38;5;241m=\u001b[39m \u001b[38;5;241m4\u001b[39m\n",
      "\u001b[0;31mTypeError\u001b[0m: 'List' object does not support item assignment"
     ]
    }
   ],
   "source": [
    "l[3] = 4"
   ]
  },
  {
   "cell_type": "code",
   "execution_count": null,
   "metadata": {},
   "outputs": [
    {
     "name": "stdout",
     "output_type": "stream",
     "text": [
      "3 5 2 6\n"
     ]
    }
   ],
   "source": [
    "print(l)"
   ]
  },
  {
   "cell_type": "code",
   "execution_count": null,
   "metadata": {},
   "outputs": [],
   "source": [
    "class MutableList(List):\n",
    "    def __init__(self, list_item):\n",
    "        super().__init__(list_item)\n",
    "        \n",
    "    def append(self, new_node):\n",
    "        if not isinstance(new_node, ListItem):\n",
    "            if isinstance(new_node, int):\n",
    "                new_node = ListItem(new_node)\n",
    "            else:\n",
    "                raise TypeError(\"Can only add nodes and integers to a list\")\n",
    "        \n",
    "        self.tail.next = new_node\n",
    "        self.tail = new_node\n",
    "    \n",
    "    def __setitem__(self, index, value):\n",
    "        if not isinstance(value, int):\n",
    "            if isinstance(value, ListItem):\n",
    "                value = value.value\n",
    "            else:\n",
    "                raise TypeError(\"Item assignment only supports ListItem and int types\")\n",
    "        \n",
    "        if len(self) <= index:\n",
    "            raise IndexError(f\"List object has length {len(self)}, attepmted to reach index {index}\")\n",
    "        cur = self.head\n",
    "        for _ in range(index):\n",
    "            cur = cur.next\n",
    "        \n",
    "        cur.value = value\n"
   ]
  },
  {
   "cell_type": "code",
   "execution_count": null,
   "metadata": {},
   "outputs": [],
   "source": [
    "l2 = MutableList(5)\n"
   ]
  },
  {
   "cell_type": "code",
   "execution_count": 212,
   "metadata": {},
   "outputs": [
    {
     "data": {
      "text/plain": [
       "5 3 6 21"
      ]
     },
     "execution_count": 212,
     "metadata": {},
     "output_type": "execute_result"
    }
   ],
   "source": [
    "l2"
   ]
  },
  {
   "cell_type": "code",
   "execution_count": 213,
   "metadata": {},
   "outputs": [],
   "source": [
    "l2[2] = 7"
   ]
  },
  {
   "cell_type": "code",
   "execution_count": 215,
   "metadata": {},
   "outputs": [
    {
     "data": {
      "text/plain": [
       "5 3 7 21"
      ]
     },
     "execution_count": 215,
     "metadata": {},
     "output_type": "execute_result"
    }
   ],
   "source": [
    "l2"
   ]
  },
  {
   "cell_type": "code",
   "execution_count": null,
   "metadata": {},
   "outputs": [],
   "source": []
  }
 ],
 "metadata": {
  "kernelspec": {
   "display_name": "base",
   "language": "python",
   "name": "python3"
  },
  "language_info": {
   "codemirror_mode": {
    "name": "ipython",
    "version": 3
   },
   "file_extension": ".py",
   "mimetype": "text/x-python",
   "name": "python",
   "nbconvert_exporter": "python",
   "pygments_lexer": "ipython3",
   "version": "3.11.6"
  }
 },
 "nbformat": 4,
 "nbformat_minor": 2
}
